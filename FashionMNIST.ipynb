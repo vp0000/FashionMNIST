{
 "cells": [
  {
   "cell_type": "code",
   "execution_count": 2,
   "metadata": {},
   "outputs": [],
   "source": [
    "import keras\n",
    "from keras.utils import to_categorical\n",
    "import numpy as np\n",
    "import pandas as pd\n",
    "from sklearn.model_selection import train_test_split"
   ]
  },
  {
   "cell_type": "code",
   "execution_count": 4,
   "metadata": {},
   "outputs": [],
   "source": [
    "data_train = pd.read_csv('D:/FashionMnist_CNN/Dataset/fashion-mnist_train.csv')\n",
    "data_test = pd.read_csv('D:/FashionMnist_CNN/Dataset/fashion-mnist_test.csv')\n",
    "\n",
    "img_rows, img_cols = 28, 28\n",
    "input_shape = (img_rows, img_cols, 1)\n",
    "\n",
    "X = np.array(data_train.iloc[:, 1:])\n",
    "y = to_categorical(np.array(data_train.iloc[:, 0]))\n",
    "\n",
    "X_train, X_val, y_train, y_val = train_test_split(X, y, test_size=0.2, random_state=13)\n",
    "\n",
    "X_test = np.array(data_test.iloc[:, 1:])\n",
    "y_test = to_categorical(np.array(data_test.iloc[:, 0]))\n",
    "\n",
    "X_train = X_train.reshape(X_train.shape[0], img_rows, img_cols, 1)\n",
    "X_test = X_test.reshape(X_test.shape[0], img_rows, img_cols, 1)\n",
    "X_val = X_val.reshape(X_val.shape[0], img_rows, img_cols, 1)\n",
    "\n",
    "X_train = X_train.astype('float32')\n",
    "X_test = X_test.astype('float32')\n",
    "X_val = X_val.astype('float32')\n",
    "X_train /= 255\n",
    "X_test /= 255\n",
    "X_val /= 255"
   ]
  },
  {
   "cell_type": "code",
   "execution_count": 5,
   "metadata": {},
   "outputs": [
    {
     "name": "stdout",
     "output_type": "stream",
     "text": [
      "Model: \"sequential\"\n",
      "_________________________________________________________________\n",
      " Layer (type)                Output Shape              Param #   \n",
      "=================================================================\n",
      " conv2d (Conv2D)             (None, 26, 26, 32)        320       \n",
      "                                                                 \n",
      " max_pooling2d (MaxPooling2D  (None, 13, 13, 32)       0         \n",
      " )                                                               \n",
      "                                                                 \n",
      " dropout (Dropout)           (None, 13, 13, 32)        0         \n",
      "                                                                 \n",
      " conv2d_1 (Conv2D)           (None, 11, 11, 64)        18496     \n",
      "                                                                 \n",
      " max_pooling2d_1 (MaxPooling  (None, 5, 5, 64)         0         \n",
      " 2D)                                                             \n",
      "                                                                 \n",
      " dropout_1 (Dropout)         (None, 5, 5, 64)          0         \n",
      "                                                                 \n",
      " conv2d_2 (Conv2D)           (None, 3, 3, 128)         73856     \n",
      "                                                                 \n",
      " dropout_2 (Dropout)         (None, 3, 3, 128)         0         \n",
      "                                                                 \n",
      " flatten (Flatten)           (None, 1152)              0         \n",
      "                                                                 \n",
      " dense (Dense)               (None, 128)               147584    \n",
      "                                                                 \n",
      " dropout_3 (Dropout)         (None, 128)               0         \n",
      "                                                                 \n",
      " dense_1 (Dense)             (None, 10)                1290      \n",
      "                                                                 \n",
      "=================================================================\n",
      "Total params: 241,546\n",
      "Trainable params: 241,546\n",
      "Non-trainable params: 0\n",
      "_________________________________________________________________\n"
     ]
    }
   ],
   "source": [
    "from keras.models import Sequential\n",
    "from keras.layers import Dense, Dropout, Flatten\n",
    "from keras.layers import Conv2D, MaxPooling2D\n",
    "from tensorflow.keras.layers import BatchNormalization\n",
    "\n",
    "batch_size = 256\n",
    "num_classes = 10\n",
    "epochs = 50\n",
    "\n",
    "img_rows, img_cols = 28, 28\n",
    "\n",
    "model = Sequential()\n",
    "model.add(Conv2D(32, kernel_size=(3, 3), activation='relu', kernel_initializer='he_normal', input_shape=input_shape))\n",
    "model.add(MaxPooling2D((2, 2)))\n",
    "model.add(Dropout(0.25))\n",
    "model.add(Conv2D(64, (3, 3), activation='relu'))\n",
    "model.add(MaxPooling2D(pool_size=(2, 2)))\n",
    "model.add(Dropout(0.25))\n",
    "model.add(Conv2D(128, (3, 3), activation='relu'))\n",
    "model.add(Dropout(0.4))\n",
    "model.add(Flatten())\n",
    "model.add(Dense(128, activation='relu'))\n",
    "model.add(Dropout(0.3))\n",
    "model.add(Dense(num_classes, activation='softmax'))\n",
    "\n",
    "model.compile(loss=keras.losses.categorical_crossentropy, optimizer=keras.optimizers.Adam(), metrics=['accuracy'])\n",
    "\n",
    "model.summary()"
   ]
  },
  {
   "cell_type": "code",
   "execution_count": 7,
   "metadata": {},
   "outputs": [
    {
     "name": "stdout",
     "output_type": "stream",
     "text": [
      "Epoch 1/50\n",
      "188/188 [==============================] - 32s 165ms/step - loss: 0.8797 - accuracy: 0.6689 - val_loss: 0.5199 - val_accuracy: 0.8110\n",
      "Epoch 2/50\n",
      "188/188 [==============================] - 31s 166ms/step - loss: 0.5373 - accuracy: 0.7983 - val_loss: 0.4363 - val_accuracy: 0.8390\n",
      "Epoch 3/50\n",
      "188/188 [==============================] - 28s 151ms/step - loss: 0.4634 - accuracy: 0.8271 - val_loss: 0.3883 - val_accuracy: 0.8609\n",
      "Epoch 4/50\n",
      "188/188 [==============================] - 27s 145ms/step - loss: 0.4218 - accuracy: 0.8459 - val_loss: 0.3456 - val_accuracy: 0.8748\n",
      "Epoch 5/50\n",
      "188/188 [==============================] - 29s 157ms/step - loss: 0.3859 - accuracy: 0.8595 - val_loss: 0.3244 - val_accuracy: 0.8803\n",
      "Epoch 6/50\n",
      "188/188 [==============================] - 31s 163ms/step - loss: 0.3634 - accuracy: 0.8682 - val_loss: 0.3109 - val_accuracy: 0.8848\n",
      "Epoch 7/50\n",
      "188/188 [==============================] - 28s 150ms/step - loss: 0.3442 - accuracy: 0.8725 - val_loss: 0.2960 - val_accuracy: 0.8923\n",
      "Epoch 8/50\n",
      "188/188 [==============================] - 40s 212ms/step - loss: 0.3238 - accuracy: 0.8810 - val_loss: 0.2876 - val_accuracy: 0.8938\n",
      "Epoch 9/50\n",
      "188/188 [==============================] - 35s 185ms/step - loss: 0.3183 - accuracy: 0.8824 - val_loss: 0.2794 - val_accuracy: 0.8976\n",
      "Epoch 10/50\n",
      "188/188 [==============================] - 30s 162ms/step - loss: 0.3080 - accuracy: 0.8876 - val_loss: 0.2772 - val_accuracy: 0.8959\n",
      "Epoch 11/50\n",
      "188/188 [==============================] - 28s 148ms/step - loss: 0.2932 - accuracy: 0.8916 - val_loss: 0.2646 - val_accuracy: 0.9022\n",
      "Epoch 12/50\n",
      "188/188 [==============================] - 26s 139ms/step - loss: 0.2865 - accuracy: 0.8940 - val_loss: 0.2577 - val_accuracy: 0.9022\n",
      "Epoch 13/50\n",
      "188/188 [==============================] - 25s 132ms/step - loss: 0.2793 - accuracy: 0.8958 - val_loss: 0.2525 - val_accuracy: 0.9040\n",
      "Epoch 14/50\n",
      "188/188 [==============================] - 28s 147ms/step - loss: 0.2741 - accuracy: 0.8982 - val_loss: 0.2484 - val_accuracy: 0.9071\n",
      "Epoch 15/50\n",
      "188/188 [==============================] - 31s 167ms/step - loss: 0.2660 - accuracy: 0.9018 - val_loss: 0.2506 - val_accuracy: 0.9062\n",
      "Epoch 16/50\n",
      "188/188 [==============================] - 36s 191ms/step - loss: 0.2684 - accuracy: 0.9008 - val_loss: 0.2473 - val_accuracy: 0.9060\n",
      "Epoch 17/50\n",
      "188/188 [==============================] - 35s 185ms/step - loss: 0.2591 - accuracy: 0.9038 - val_loss: 0.2416 - val_accuracy: 0.9090\n",
      "Epoch 18/50\n",
      "188/188 [==============================] - 31s 164ms/step - loss: 0.2548 - accuracy: 0.9051 - val_loss: 0.2385 - val_accuracy: 0.9105\n",
      "Epoch 19/50\n",
      "188/188 [==============================] - 34s 181ms/step - loss: 0.2533 - accuracy: 0.9062 - val_loss: 0.2316 - val_accuracy: 0.9120\n",
      "Epoch 20/50\n",
      "188/188 [==============================] - 29s 153ms/step - loss: 0.2464 - accuracy: 0.9071 - val_loss: 0.2394 - val_accuracy: 0.9119\n",
      "Epoch 21/50\n",
      "188/188 [==============================] - 32s 173ms/step - loss: 0.2419 - accuracy: 0.9095 - val_loss: 0.2366 - val_accuracy: 0.9107\n",
      "Epoch 22/50\n",
      "188/188 [==============================] - 31s 167ms/step - loss: 0.2383 - accuracy: 0.9111 - val_loss: 0.2353 - val_accuracy: 0.9116\n",
      "Epoch 23/50\n",
      "188/188 [==============================] - 30s 158ms/step - loss: 0.2347 - accuracy: 0.9119 - val_loss: 0.2309 - val_accuracy: 0.9135\n",
      "Epoch 24/50\n",
      "188/188 [==============================] - 30s 160ms/step - loss: 0.2338 - accuracy: 0.9132 - val_loss: 0.2312 - val_accuracy: 0.9135\n",
      "Epoch 25/50\n",
      "188/188 [==============================] - 31s 163ms/step - loss: 0.2276 - accuracy: 0.9156 - val_loss: 0.2279 - val_accuracy: 0.9147\n",
      "Epoch 26/50\n",
      "188/188 [==============================] - 31s 164ms/step - loss: 0.2269 - accuracy: 0.9157 - val_loss: 0.2240 - val_accuracy: 0.9169\n",
      "Epoch 27/50\n",
      "188/188 [==============================] - 26s 138ms/step - loss: 0.2251 - accuracy: 0.9153 - val_loss: 0.2290 - val_accuracy: 0.9139\n",
      "Epoch 28/50\n",
      "188/188 [==============================] - 29s 152ms/step - loss: 0.2229 - accuracy: 0.9165 - val_loss: 0.2273 - val_accuracy: 0.9139\n",
      "Epoch 29/50\n",
      "188/188 [==============================] - 29s 156ms/step - loss: 0.2188 - accuracy: 0.9173 - val_loss: 0.2235 - val_accuracy: 0.9183\n",
      "Epoch 30/50\n",
      "188/188 [==============================] - 29s 155ms/step - loss: 0.2176 - accuracy: 0.9171 - val_loss: 0.2212 - val_accuracy: 0.9152\n",
      "Epoch 31/50\n",
      "188/188 [==============================] - 26s 141ms/step - loss: 0.2188 - accuracy: 0.9186 - val_loss: 0.2207 - val_accuracy: 0.9171\n",
      "Epoch 32/50\n",
      "188/188 [==============================] - 27s 143ms/step - loss: 0.2150 - accuracy: 0.9193 - val_loss: 0.2207 - val_accuracy: 0.9166\n",
      "Epoch 33/50\n",
      "188/188 [==============================] - 30s 157ms/step - loss: 0.2097 - accuracy: 0.9210 - val_loss: 0.2251 - val_accuracy: 0.9181\n",
      "Epoch 34/50\n",
      "188/188 [==============================] - 33s 176ms/step - loss: 0.2087 - accuracy: 0.9208 - val_loss: 0.2178 - val_accuracy: 0.9186\n",
      "Epoch 35/50\n",
      "188/188 [==============================] - 28s 151ms/step - loss: 0.2083 - accuracy: 0.9211 - val_loss: 0.2213 - val_accuracy: 0.9179\n",
      "Epoch 36/50\n",
      "188/188 [==============================] - 25s 131ms/step - loss: 0.2043 - accuracy: 0.9223 - val_loss: 0.2158 - val_accuracy: 0.9203\n",
      "Epoch 37/50\n",
      "188/188 [==============================] - 26s 138ms/step - loss: 0.2025 - accuracy: 0.9237 - val_loss: 0.2155 - val_accuracy: 0.9222\n",
      "Epoch 38/50\n",
      "188/188 [==============================] - 24s 128ms/step - loss: 0.2053 - accuracy: 0.9233 - val_loss: 0.2268 - val_accuracy: 0.9158\n",
      "Epoch 39/50\n",
      "188/188 [==============================] - 31s 163ms/step - loss: 0.2031 - accuracy: 0.9249 - val_loss: 0.2150 - val_accuracy: 0.9208\n",
      "Epoch 40/50\n",
      "188/188 [==============================] - 31s 167ms/step - loss: 0.1971 - accuracy: 0.9260 - val_loss: 0.2205 - val_accuracy: 0.9184\n",
      "Epoch 41/50\n",
      "188/188 [==============================] - 32s 170ms/step - loss: 0.1996 - accuracy: 0.9238 - val_loss: 0.2203 - val_accuracy: 0.9195\n",
      "Epoch 42/50\n",
      "188/188 [==============================] - 25s 130ms/step - loss: 0.1960 - accuracy: 0.9265 - val_loss: 0.2171 - val_accuracy: 0.9192\n",
      "Epoch 43/50\n",
      "188/188 [==============================] - 25s 133ms/step - loss: 0.1932 - accuracy: 0.9271 - val_loss: 0.2142 - val_accuracy: 0.9210\n",
      "Epoch 44/50\n",
      "188/188 [==============================] - 24s 130ms/step - loss: 0.1978 - accuracy: 0.9249 - val_loss: 0.2125 - val_accuracy: 0.9220\n",
      "Epoch 45/50\n",
      "188/188 [==============================] - 25s 134ms/step - loss: 0.1918 - accuracy: 0.9263 - val_loss: 0.2164 - val_accuracy: 0.9207\n",
      "Epoch 46/50\n",
      "188/188 [==============================] - 25s 135ms/step - loss: 0.1946 - accuracy: 0.9259 - val_loss: 0.2167 - val_accuracy: 0.9187\n",
      "Epoch 47/50\n",
      "188/188 [==============================] - 24s 130ms/step - loss: 0.1902 - accuracy: 0.9277 - val_loss: 0.2155 - val_accuracy: 0.9191\n",
      "Epoch 48/50\n",
      "188/188 [==============================] - 25s 131ms/step - loss: 0.1852 - accuracy: 0.9288 - val_loss: 0.2186 - val_accuracy: 0.9197\n",
      "Epoch 49/50\n",
      "188/188 [==============================] - 24s 130ms/step - loss: 0.1858 - accuracy: 0.9287 - val_loss: 0.2159 - val_accuracy: 0.9220\n",
      "Epoch 50/50\n",
      "188/188 [==============================] - 27s 141ms/step - loss: 0.1869 - accuracy: 0.9284 - val_loss: 0.2097 - val_accuracy: 0.9221\n"
     ]
    }
   ],
   "source": [
    "history = model.fit(X_train, y_train,\n",
    "          batch_size=batch_size,\n",
    "          epochs=epochs,\n",
    "          verbose=1,\n",
    "          validation_data=(X_val, y_val))\n",
    "score = model.evaluate(X_test, y_test, verbose=0)"
   ]
  },
  {
   "cell_type": "code",
   "execution_count": 8,
   "metadata": {},
   "outputs": [
    {
     "name": "stdout",
     "output_type": "stream",
     "text": [
      "Test loss: 0.198988676071167\n",
      "Test accuracy: 0.9251000285148621\n"
     ]
    }
   ],
   "source": [
    "print('Test loss:', score[0])\n",
    "print('Test accuracy:', score[1])"
   ]
  },
  {
   "cell_type": "code",
   "execution_count": 10,
   "metadata": {},
   "outputs": [
    {
     "data": {
      "image/png": "[encoded data removed]",
      "text/plain": [
       "<Figure size 432x288 with 1 Axes>"
      ]
     },
     "metadata": {
      "needs_background": "light"
     },
     "output_type": "display_data"
    },
    {
     "data": {
      "image/png": "[encoded data removed]",
      "text/plain": [
       "<Figure size 432x288 with 1 Axes>"
      ]
     },
     "metadata": {
      "needs_background": "light"
     },
     "output_type": "display_data"
    }
   ],
   "source": [
    "import matplotlib.pyplot as plt\n",
    "%matplotlib inline\n",
    "accuracy = history.history['accuracy']\n",
    "val_accuracy = history.history['val_accuracy']\n",
    "loss = history.history['loss']\n",
    "val_loss = history.history['val_loss']\n",
    "epochs = range(len(accuracy))\n",
    "plt.plot(epochs, accuracy, 'bo', label='Training accuracy')\n",
    "plt.plot(epochs, val_accuracy, 'b', label='Validation accuracy')\n",
    "plt.title('Training and validation accuracy')\n",
    "plt.legend()\n",
    "plt.figure()\n",
    "plt.plot(epochs, loss, 'bo', label='Training loss')\n",
    "plt.plot(epochs, val_loss, 'b', label='Validation loss')\n",
    "plt.title('Training and validation loss')\n",
    "plt.legend()\n",
    "plt.show()"
   ]
  }
 ],
 "metadata": {
  "interpreter": {
   "hash": "6c57712967491a7089de6ab6b22a6363087c072c9a2d9cd72a57ec57d9da397a"
  },
  "kernelspec": {
   "display_name": "Python 3.10.4 ('venv')",
   "language": "python",
   "name": "python3"
  },
  "language_info": {
   "codemirror_mode": {
    "name": "ipython",
    "version": 3
   },
   "file_extension": ".py",
   "mimetype": "text/x-python",
   "name": "python",
   "nbconvert_exporter": "python",
   "pygments_lexer": "ipython3",
   "version": "3.10.4"
  },
  "orig_nbformat": 4
 },
 "nbformat": 4,
 "nbformat_minor": 2
}
